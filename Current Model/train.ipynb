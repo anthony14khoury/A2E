{
 "cells": [
  {
   "cell_type": "code",
   "execution_count": 1,
   "metadata": {
    "id": "6JKuvE1Sn1og",
    "pycharm": {
     "name": "#%%\n"
    }
   },
   "outputs": [],
   "source": [
    "import pandas as pd\n",
    "import numpy as np\n",
    "import matplotlib.pyplot as plt\n",
    "import tensorflow as tf\n",
    "import os\n",
    "from tensorflow.keras.preprocessing.image import ImageDataGenerator\n",
    "from sklearn.model_selection import train_test_split\n",
    "from tensorflow.keras.utils import to_categorical\n",
    "import cv2\n",
    "import pydot"
   ],
   "id": "6JKuvE1Sn1og"
  },
  {
   "cell_type": "code",
   "execution_count": 2,
   "metadata": {
    "id": "F3TcTi7Wn1oi",
    "pycharm": {
     "name": "#%%\n"
    }
   },
   "outputs": [],
   "source": [
    "gpu = tf.config.experimental.list_physical_devices('GPU')\n",
    "tf.config.experimental.set_memory_growth(gpu[0], True)"
   ],
   "id": "F3TcTi7Wn1oi"
  },
  {
   "cell_type": "code",
   "execution_count": 3,
   "metadata": {
    "id": "LQx-_Xuwn1oi",
    "pycharm": {
     "name": "#%%\n"
    }
   },
   "outputs": [],
   "source": [
    "#load_dataset function to load the data and resize the images to 50x50\n",
    "def load_dataset(directory):\n",
    "  images = []\n",
    "  labels = []\n",
    "  for idx, label in enumerate(uniq_labels):\n",
    "    for file in os.listdir(directory + '/'+label):\n",
    "      filepath = directory +'/'+ label + \"/\" + file\n",
    "      img = cv2.resize(cv2.imread(filepath),(50,50))\n",
    "      images.append(img)\n",
    "      labels.append(idx)\n",
    "  images = np.asarray(images)\n",
    "  labels = np.asarray(labels)\n",
    "  return images, labels"
   ],
   "id": "LQx-_Xuwn1oi"
  },
  {
   "cell_type": "code",
   "source": [
    "!unzip 'Gesture Image Data.zip'"
   ],
   "metadata": {
    "id": "0e_Uvu4Ds5gB",
    "pycharm": {
     "name": "#%%\n"
    }
   },
   "id": "0e_Uvu4Ds5gB",
   "execution_count": null,
   "outputs": []
  },
  {
   "cell_type": "code",
   "source": [
    "%cd 'Gesture Image Data'"
   ],
   "metadata": {
    "id": "I-bREhB1z7_s",
    "pycharm": {
     "name": "#%%\n"
    }
   },
   "id": "I-bREhB1z7_s",
   "execution_count": null,
   "outputs": []
  },
  {
   "cell_type": "code",
   "execution_count": null,
   "metadata": {
    "id": "98FKheYEn1oj",
    "pycharm": {
     "name": "#%%\n"
    }
   },
   "outputs": [],
   "source": [
    "#loading_dataset into X_pre and Y_pre\n",
    "data_dir = r'/content/Gesture Image Data'\n",
    "uniq_labels = sorted(os.listdir(data_dir))\n",
    "X_pre, Y_pre = load_dataset(data_dir)\n",
    "print(X_pre.shape, Y_pre.shape)"
   ],
   "id": "98FKheYEn1oj"
  },
  {
   "cell_type": "code",
   "execution_count": 7,
   "metadata": {
    "id": "FkLOZAgon1oj",
    "pycharm": {
     "name": "#%%\n"
    }
   },
   "outputs": [],
   "source": [
    "#spliting dataset into 80% train, 10% validation and 10% test data\n",
    "X_train, X_test, Y_train, Y_test = train_test_split(X_pre, Y_pre, test_size = 0.8)\n",
    "X_test, X_eval, Y_test, Y_eval = train_test_split(X_test, Y_test, test_size = 0.5)"
   ],
   "id": "FkLOZAgon1oj"
  },
  {
   "cell_type": "code",
   "execution_count": 8,
   "metadata": {
    "id": "nazVpgIAn1ol",
    "pycharm": {
     "name": "#%%\n"
    }
   },
   "outputs": [],
   "source": [
    "# converting Y_tes and Y_train to One hot vectors using to_categorical\n",
    "# example of one hot => '1' is represented as [0. 1. 0. . . . . 0.]\n",
    "Y_train = to_categorical(Y_train)\n",
    "Y_test = to_categorical(Y_test)\n",
    "Y_eval = to_categorical(Y_eval)\n",
    "X_train = X_train / 255.\n",
    "X_test = X_test/ 255.\n",
    "X_eval = X_eval/ 255."
   ],
   "id": "nazVpgIAn1ol"
  },
  {
   "cell_type": "code",
   "execution_count": null,
   "metadata": {
    "id": "45KjaQAhn1ol",
    "pycharm": {
     "name": "#%%\n"
    }
   },
   "outputs": [],
   "source": [
    "# building our model\n",
    "model = tf.keras.Sequential([\n",
    "        tf.keras.layers.Conv2D(16, (3,3), activation ='relu', input_shape=(50,50,3)),\n",
    "        tf.keras.layers.Conv2D(16, (3,3), activation ='relu'),\n",
    "        tf.keras.layers.Conv2D(16, (3,3), activation ='relu'),\n",
    "        tf.keras.layers.MaxPool2D((2,2)),\n",
    "        tf.keras.layers.Conv2D(32, (3,3), activation ='relu'),\n",
    "        tf.keras.layers.Conv2D(32, (3,3), activation ='relu'),\n",
    "        tf.keras.layers.Conv2D(32, (3,3), activation ='relu'),\n",
    "        tf.keras.layers.MaxPool2D((2,2)),\n",
    "        tf.keras.layers.Conv2D(64, (3,3), activation ='relu'),\n",
    "        tf.keras.layers.Conv2D(64, (3,3), activation ='relu'),\n",
    "        tf.keras.layers.Conv2D(64, (3,3), activation ='relu'),\n",
    "        tf.keras.layers.Flatten(),\n",
    "        tf.keras.layers.Dense(128, activation='relu'),\n",
    "        tf.keras.layers.Dense(25, activation='softmax')\n",
    "])\n",
    "\n",
    "model.summary()"
   ],
   "id": "45KjaQAhn1ol"
  },
  {
   "cell_type": "code",
   "execution_count": 10,
   "metadata": {
    "id": "mJTprUq_n1om",
    "pycharm": {
     "name": "#%%\n"
    }
   },
   "outputs": [],
   "source": [
    "#compiling the model\n",
    "#default batch size 32\n",
    "#default learning rate is 0.001\n",
    "model.compile(optimizer = 'adam',\n",
    "               loss = 'categorical_crossentropy',\n",
    "               metrics=['accuracy'],)"
   ],
   "id": "mJTprUq_n1om"
  },
  {
   "cell_type": "code",
   "execution_count": null,
   "metadata": {
    "id": "zwB_ufJIn1om",
    "pycharm": {
     "name": "#%%\n"
    }
   },
   "outputs": [],
   "source": [
    "#start training(fitting) the data\n",
    "history = model.fit(X_train, Y_train, epochs=20, verbose=1,\n",
    "                validation_data=(X_eval, Y_eval))"
   ],
   "id": "zwB_ufJIn1om"
  },
  {
   "cell_type": "code",
   "execution_count": null,
   "metadata": {
    "id": "0dadQTByn1on",
    "pycharm": {
     "name": "#%%\n"
    }
   },
   "outputs": [],
   "source": [
    "#testing\n",
    "model.evaluate(X_test, Y_test)"
   ],
   "id": "0dadQTByn1on"
  },
  {
   "cell_type": "code",
   "execution_count": null,
   "metadata": {
    "id": "rjWaKy5Dn1on",
    "pycharm": {
     "name": "#%%\n"
    }
   },
   "outputs": [],
   "source": [
    "#save the model\n",
    "model.save(r'/content/model.h5')"
   ],
   "id": "rjWaKy5Dn1on"
  },
  {
   "cell_type": "code",
   "execution_count": null,
   "metadata": {
    "id": "pIYeaKjbn1on",
    "pycharm": {
     "name": "#%%\n"
    }
   },
   "outputs": [],
   "source": [
    "train_loss = history.history['loss']\n",
    "train_acc = history.history['accuracy']\n",
    "val_loss = history.history['val_loss']\n",
    "val_accuracy = history.history['val_accuracy']\n"
   ],
   "id": "pIYeaKjbn1on"
  }
 ],
 "metadata": {
  "kernelspec": {
   "display_name": "Python 3",
   "language": "python",
   "name": "python3"
  },
  "language_info": {
   "codemirror_mode": {
    "name": "ipython",
    "version": 3
   },
   "file_extension": ".py",
   "mimetype": "text/x-python",
   "name": "python",
   "nbconvert_exporter": "python",
   "pygments_lexer": "ipython3",
   "version": "3.7.9"
  },
  "colab": {
   "provenance": []
  },
  "accelerator": "GPU",
  "gpuClass": "standard"
 },
 "nbformat": 4,
 "nbformat_minor": 5
}